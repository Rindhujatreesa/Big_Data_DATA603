{
 "cells": [
  {
   "cell_type": "markdown",
   "id": "b5cb35bb-80cc-48ba-a2cc-d2f560467562",
   "metadata": {},
   "source": [
    "## CHICAGO CRIME DATA ANALYSIS"
   ]
  },
  {
   "cell_type": "code",
   "execution_count": 1,
   "id": "5ad76371-59c2-4488-8e3a-8d50e912ce48",
   "metadata": {},
   "outputs": [],
   "source": [
    "from pyspark import SparkContext\n",
    "from pyspark.sql import SQLContext\n",
    "from pyspark import SparkFiles\n",
    "from pyspark.sql import SparkSession\n",
    "from pyspark.sql.functions import *\n",
    "from pyspark.sql.types import TimestampType"
   ]
  },
  {
   "cell_type": "markdown",
   "id": "13d9bed1-e3b1-47ae-9ae8-dd9f4c192c6b",
   "metadata": {},
   "source": [
    "### Creating a Spark Context"
   ]
  },
  {
   "cell_type": "code",
   "execution_count": 2,
   "id": "a1721ba8-b716-42be-a57c-2ae77aeb9bdc",
   "metadata": {},
   "outputs": [],
   "source": [
    "sc = SparkContext.getOrCreate()"
   ]
  },
  {
   "cell_type": "markdown",
   "id": "29f836ac-2c1f-4894-bcd2-276b386949cd",
   "metadata": {},
   "source": [
    "### Extracting data from the URL and storing it as a data frame"
   ]
  },
  {
   "cell_type": "code",
   "execution_count": 3,
   "id": "e96c8c6d-3722-476c-90e7-028d04030e69",
   "metadata": {},
   "outputs": [],
   "source": [
    "data_url = \"https://data.cityofchicago.org/api/views/ijzp-q8t2/rows.csv?accessType=DOWNLOAD\""
   ]
  },
  {
   "cell_type": "code",
   "execution_count": 4,
   "id": "85137269-6c0e-4069-af3d-d605fcaf9711",
   "metadata": {
    "scrolled": true
   },
   "outputs": [
    {
     "name": "stderr",
     "output_type": "stream",
     "text": [
      "D:\\DATA_603\\Spark\\python\\pyspark\\sql\\context.py:113: FutureWarning: Deprecated in 3.0.0. Use SparkSession.builder.getOrCreate() instead.\n",
      "  warnings.warn(\n"
     ]
    }
   ],
   "source": [
    "sc.addFile(data_url)\n",
    "schemacontext = SQLContext(sc)"
   ]
  },
  {
   "cell_type": "code",
   "execution_count": 5,
   "id": "69c56089-8e79-431c-a068-28ab6278d80e",
   "metadata": {
    "scrolled": true
   },
   "outputs": [],
   "source": [
    "data = schemacontext.read.csv(SparkFiles.get(\"rows.csv\"), header = True, inferSchema = True)"
   ]
  },
  {
   "cell_type": "code",
   "execution_count": 6,
   "id": "232b29c8-ef56-4f2a-b340-a56424a5fd7c",
   "metadata": {},
   "outputs": [],
   "source": [
    "data = data.cache() #For faster access to data"
   ]
  },
  {
   "cell_type": "markdown",
   "id": "addea0a1-dbca-4192-bb25-8f8ab060c1ef",
   "metadata": {},
   "source": [
    "### Data Pre-processing"
   ]
  },
  {
   "cell_type": "code",
   "execution_count": 7,
   "id": "dad64096-fc81-43f5-b9e8-3850a31ba345",
   "metadata": {},
   "outputs": [
    {
     "name": "stdout",
     "output_type": "stream",
     "text": [
      "root\n",
      " |-- ID: integer (nullable = true)\n",
      " |-- Case Number: string (nullable = true)\n",
      " |-- Date: string (nullable = true)\n",
      " |-- Block: string (nullable = true)\n",
      " |-- IUCR: string (nullable = true)\n",
      " |-- Primary Type: string (nullable = true)\n",
      " |-- Description: string (nullable = true)\n",
      " |-- Location Description: string (nullable = true)\n",
      " |-- Arrest: boolean (nullable = true)\n",
      " |-- Domestic: boolean (nullable = true)\n",
      " |-- Beat: integer (nullable = true)\n",
      " |-- District: integer (nullable = true)\n",
      " |-- Ward: integer (nullable = true)\n",
      " |-- Community Area: integer (nullable = true)\n",
      " |-- FBI Code: string (nullable = true)\n",
      " |-- X Coordinate: integer (nullable = true)\n",
      " |-- Y Coordinate: integer (nullable = true)\n",
      " |-- Year: integer (nullable = true)\n",
      " |-- Updated On: string (nullable = true)\n",
      " |-- Latitude: double (nullable = true)\n",
      " |-- Longitude: double (nullable = true)\n",
      " |-- Location: string (nullable = true)\n",
      "\n"
     ]
    }
   ],
   "source": [
    "data.printSchema()"
   ]
  },
  {
   "cell_type": "code",
   "execution_count": 8,
   "id": "539f3746-a7a2-46fa-8c8f-678e547a4e09",
   "metadata": {},
   "outputs": [
    {
     "name": "stdout",
     "output_type": "stream",
     "text": [
      "+--------+-----------+----------------------+--------------------+----+------------------+---------------------------------------+--------------------+------+--------+----+--------+----+--------------+--------+------------+------------+----+----------------------+--------+---------+--------+\n",
      "|ID      |Case Number|Date                  |Block               |IUCR|Primary Type      |Description                            |Location Description|Arrest|Domestic|Beat|District|Ward|Community Area|FBI Code|X Coordinate|Y Coordinate|Year|Updated On            |Latitude|Longitude|Location|\n",
      "+--------+-----------+----------------------+--------------------+----+------------------+---------------------------------------+--------------------+------+--------+----+--------+----+--------------+--------+------------+------------+----+----------------------+--------+---------+--------+\n",
      "|11037294|JA371270   |03/18/2015 12:00:00 PM|0000X W WACKER DR   |1153|DECEPTIVE PRACTICE|FINANCIAL IDENTITY THEFT OVER $ 300    |BANK                |false |false   |111 |1       |42  |32            |11      |NULL        |NULL        |2015|08/01/2017 03:52:26 PM|NULL    |NULL     |NULL    |\n",
      "|11646293|JC213749   |12/20/2018 03:00:00 PM|023XX N LOCKWOOD AVE|1154|DECEPTIVE PRACTICE|FINANCIAL IDENTITY THEFT $300 AND UNDER|APARTMENT           |false |false   |2515|25      |36  |19            |11      |NULL        |NULL        |2018|04/06/2019 04:04:43 PM|NULL    |NULL     |NULL    |\n",
      "|11645836|JC212333   |05/01/2016 12:25:00 AM|055XX S ROCKWELL ST |1153|DECEPTIVE PRACTICE|FINANCIAL IDENTITY THEFT OVER $ 300    |NULL                |false |false   |824 |8       |15  |63            |11      |NULL        |NULL        |2016|04/06/2019 04:04:43 PM|NULL    |NULL     |NULL    |\n",
      "|11645959|JC211511   |12/20/2018 04:00:00 PM|045XX N ALBANY AVE  |2820|OTHER OFFENSE     |TELEPHONE THREAT                       |RESIDENCE           |false |false   |1724|17      |33  |14            |08A     |NULL        |NULL        |2018|04/06/2019 04:04:43 PM|NULL    |NULL     |NULL    |\n",
      "|11645601|JC212935   |06/01/2014 12:01:00 AM|087XX S SANGAMON ST |1153|DECEPTIVE PRACTICE|FINANCIAL IDENTITY THEFT OVER $ 300    |RESIDENCE           |false |false   |2222|22      |21  |71            |11      |NULL        |NULL        |2014|04/06/2019 04:04:43 PM|NULL    |NULL     |NULL    |\n",
      "+--------+-----------+----------------------+--------------------+----+------------------+---------------------------------------+--------------------+------+--------+----+--------+----+--------------+--------+------------+------------+----+----------------------+--------+---------+--------+\n",
      "only showing top 5 rows\n",
      "\n"
     ]
    }
   ],
   "source": [
    "data.show(5, truncate = False)"
   ]
  },
  {
   "cell_type": "code",
   "execution_count": 9,
   "id": "b1054202-4cd9-4954-943e-03f45c2823ef",
   "metadata": {
    "scrolled": true
   },
   "outputs": [
    {
     "name": "stdout",
     "output_type": "stream",
     "text": [
      "+-------+-----------------+------------------+--------------------+--------------+------------------+-----------------+---------------+--------------------+------------------+------------------+------------------+------------------+-----------------+------------------+------------------+------------------+--------------------+-------------------+--------------------+--------------------+\n",
      "|summary|               ID|       Case Number|                Date|         Block|              IUCR|     Primary Type|    Description|Location Description|              Beat|          District|              Ward|    Community Area|         FBI Code|      X Coordinate|      Y Coordinate|              Year|          Updated On|           Latitude|           Longitude|            Location|\n",
      "+-------+-----------------+------------------+--------------------+--------------+------------------+-----------------+---------------+--------------------+------------------+------------------+------------------+------------------+-----------------+------------------+------------------+------------------+--------------------+-------------------+--------------------+--------------------+\n",
      "|  count|          7918014|           7918014|             7918014|       7918014|           7918014|          7918014|        7918014|             7906080|           7918014|           7917967|           7303165|           7304538|          7918014|           7827867|           7827867|           7918014|             7918014|            7827867|             7827867|             7827867|\n",
      "|   mean|7128883.195147798|299566.86666666664|                NULL|          NULL|1119.9692464822654|             NULL|           NULL|                NULL|1185.4113141249813|11.295254956228032|22.760537109595635| 37.46098836093398|12.05617904406967|1164613.0597552308| 1885810.880616776|2010.1631265112692|                NULL|  41.84226029403521|  -87.67144899808407|                NULL|\n",
      "| stddev|3561244.126151608|138492.54914247536|                NULL|          NULL| 811.2376255121425|             NULL|           NULL|                NULL| 703.3108910035155| 6.955396188873223|13.852742217464526|21.542585652385814|7.300100123322542| 16842.66146656341|32273.917284823423| 6.429626585345039|                NULL|0.08879171825758872|0.061070548756651424|                NULL|\n",
      "|    min|              634|         01G050460|01/01/2001 01:00:...|0000X E 100 PL|              0110|            ARSON| $300 AND UNDER|\"CTA \"\"L\"\" PLATFORM\"|               111|                 1|                 1|                 0|              01A|                 0|                 0|              2001|01/01/2007 07:32:...|       36.619446395|       -91.686565684|(36.619446395, -9...|\n",
      "|    max|         13251463|         ZZZ199957|12/31/2022 12:59:...|   XX  UNKNOWN|              9901|WEAPONS VIOLATION|WIREROOM/SPORTS|                YMCA|              2535|                31|                50|                77|               27|           1205119|           1951622|              2023|12/31/2022 03:42:...|       42.022910333|       -87.524529378|(42.022910333, -8...|\n",
      "+-------+-----------------+------------------+--------------------+--------------+------------------+-----------------+---------------+--------------------+------------------+------------------+------------------+------------------+-----------------+------------------+------------------+------------------+--------------------+-------------------+--------------------+--------------------+\n",
      "\n"
     ]
    }
   ],
   "source": [
    "data.describe().show()"
   ]
  },
  {
   "cell_type": "code",
   "execution_count": 10,
   "id": "6814b7bd-fb5a-4a47-9356-d2e1da5fe685",
   "metadata": {},
   "outputs": [
    {
     "name": "stdout",
     "output_type": "stream",
     "text": [
      "7918014\n"
     ]
    }
   ],
   "source": [
    "print(data.count())"
   ]
  },
  {
   "cell_type": "markdown",
   "id": "3049bc1a-904c-4d94-aae7-0200c3f17ec0",
   "metadata": {},
   "source": [
    "There are more than 7 million entries in the dataframe."
   ]
  },
  {
   "cell_type": "code",
   "execution_count": 11,
   "id": "ceb2d9a3-cc48-43c3-b056-8110f083e97e",
   "metadata": {},
   "outputs": [
    {
     "name": "stdout",
     "output_type": "stream",
     "text": [
      "+--------+-----------+--------------------+--------------------+----+--------------------+--------------------+--------------------+------+--------+----+--------+----+--------------+--------+------------+------------+----+--------------------+------------+-------------+--------------------+\n",
      "|      ID|Case Number|                Date|               Block|IUCR|        Primary Type|         Description|Location Description|Arrest|Domestic|Beat|District|Ward|Community Area|FBI Code|X Coordinate|Y Coordinate|Year|          Updated On|    Latitude|    Longitude|            Location|\n",
      "+--------+-----------+--------------------+--------------------+----+--------------------+--------------------+--------------------+------+--------+----+--------+----+--------------+--------+------------+------------+----+--------------------+------------+-------------+--------------------+\n",
      "|12045583|   JD226426|05/07/2020 10:24:...| 035XX S INDIANA AVE|0820|               THEFT|      $500 AND UNDER|           APARTMENT| false|   false| 212|       2|   3|            35|      06|     1178180|     1881621|2020|05/14/2020 08:47:...|41.830481843|-87.621751752|(41.830481843, -8...|\n",
      "|12031001|   JD209965|04/16/2020 05:00:...|     005XX W 32ND ST|0460|             BATTERY|              SIMPLE|           APARTMENT|  true|   false| 915|       9|  11|            60|     08B|     1173292|     1883705|2020|04/23/2020 03:45:...|41.836310224|-87.639624112|(41.836310224, -8...|\n",
      "|12093529|   JD282112|07/01/2020 10:16:...|   081XX S COLES AVE|051A|             ASSAULT|AGGRAVATED - HANDGUN|              STREET|  true|   false| 422|       4|   7|            46|     04A|     1198234|     1851595|2020|07/08/2020 03:41:...|41.747609555|-87.549179329|(41.747609555, -8...|\n",
      "|12178140|   JD381597|09/27/2020 11:29:...| 065XX S WOLCOTT AVE|0460|             BATTERY|              SIMPLE|RESIDENCE - PORCH...| false|   false| 726|       7|  15|            67|     08B|     1164812|     1861251|2020|10/04/2020 03:43:...| 41.77487752|-87.671374872|(41.77487752, -87...|\n",
      "| 4144897|   HL474854|07/10/2005 03:00:...| 062XX S ABERDEEN ST|0430|             BATTERY|AGGRAVATED: OTHER...|              STREET| false|   false| 712|       7|  16|            68|     04B|     1170050|     1863524|2005|02/28/2018 03:56:...|41.781002663|-87.652107119|(41.781002663, -8...|\n",
      "|12126129|   JD321064|08/04/2020 08:28:...| 081XX S LOOMIS BLVD|143A|   WEAPONS VIOLATION|UNLAWFUL POSSESSI...|              STREET|  true|   false| 613|       6|  21|            71|      15|     1168412|     1850836|2020|08/11/2020 03:42:...|41.746220584|-87.658477307|(41.746220584, -8...|\n",
      "|12010314|   JD186932|03/15/2020 09:00:...|    051XX W HURON ST|2820|       OTHER OFFENSE|    TELEPHONE THREAT|           APARTMENT| false|   false|1531|      15|  37|            25|     08A|     1141763|     1904131|2020|03/22/2020 03:41:...|41.893002363|-87.754811709|(41.893002363, -8...|\n",
      "|12067286|   JD251718|06/02/2020 10:00:...| 042XX S EMERALD AVE|0820|               THEFT|      $500 AND UNDER|              STREET|  true|   false| 925|       9|  11|            61|      06|     1172009|     1876708|2020|06/09/2020 03:43:...|41.817138145|-87.644537728|(41.817138145, -8...|\n",
      "| 4229528|   HL545852|08/12/2005 11:00:...|063XX S COTTAGE G...|3730|INTERFERENCE WITH...| OBSTRUCTING JUSTICE|            SIDEWALK|  true|   false| 312|       3|  20|            42|      24|     1182654|     1863077|2005|02/28/2018 03:56:...|41.779492755|-87.605912536|(41.779492755, -8...|\n",
      "|12163191|   JD364357|09/11/2020 10:44:...|008XX N TRUMBULL AVE|0486|             BATTERY|DOMESTIC BATTERY ...|           RESIDENCE|  true|    true|1121|      11|  27|            23|     08B|     1153223|     1905475|2020|09/07/2021 03:41:...|41.896470682|-87.712687444|(41.896470682, -8...|\n",
      "|12142075|   JD339709|08/21/2020 12:00:...|015XX N MILWAUKEE...|0420|             BATTERY|AGGRAVATED - KNIF...|            SIDEWALK| false|   false|1424|      14|   1|            24|     04B|     1163078|     1910357|2020|08/28/2020 03:42:...| 41.90966592|-87.676354472|(41.90966592, -87...|\n",
      "|12005594|   JD181480|03/11/2020 12:00:...|     040XX W 26TH ST|0860|               THEFT|        RETAIL THEFT|  SMALL RETAIL STORE| false|   false|1031|      10|  22|            30|      06|     1150021|     1886423|2020|03/18/2020 03:41:...|41.844252757|-87.724943845|(41.844252757, -8...|\n",
      "|12070567|   JD249245|06/01/2020 01:20:...|024XX N MILWAUKEE...|0620|            BURGLARY|      UNLAWFUL ENTRY|  SMALL RETAIL STORE| false|   false|1414|      14|   1|            22|      05|     1156086|     1916141|2020|07/06/2020 03:40:...|41.925681769|-87.701883719|(41.925681769, -8...|\n",
      "|12057551|   JD240361|05/23/2020 12:20:...| 068XX S LOOMIS BLVD|0486|             BATTERY|DOMESTIC BATTERY ...|              STREET| false|    true| 724|       7|  17|            67|     08B|     1168179|     1859299|2020|09/07/2021 03:41:...|41.769449202|-87.659088027|(41.769449202, -8...|\n",
      "|12057185|   JD239952|05/22/2020 10:29:...|   0000X N LOREL AVE|2024|           NARCOTICS|POSSESS - HEROIN ...|              STREET|  true|   false|1522|      15|  28|            25|      18|     1140721|     1899686|2020|05/29/2020 03:41:...|41.880823946|-87.758747941|(41.880823946, -8...|\n",
      "|12107263|   JD298884|07/15/2020 10:15:...| 070XX S CHAPPEL AVE|0560|             ASSAULT|              SIMPLE|           APARTMENT| false|    true| 331|       3|   5|            43|     08A|     1191099|     1858560|2020|07/22/2020 03:42:...|41.766897557|-87.575098672|(41.766897557, -8...|\n",
      "|12178347|   JD382022|09/28/2020 10:23:...|038XX W JACKSON BLVD|2820|       OTHER OFFENSE|    TELEPHONE THREAT|     OTHER (SPECIFY)| false|   false|1133|      11|  28|            26|     08A|     1150770|     1898411|2020|10/05/2020 03:40:...|41.877134658|-87.721881801|(41.877134658, -8...|\n",
      "|12164381|   JD361415|09/09/2020 09:23:...|  081XX S VERNON AVE|0560|             ASSAULT|              SIMPLE|           RESIDENCE| false|   false| 631|       6|   6|            44|     08A|     1180660|     1851072|2020|09/16/2020 03:41:...|41.746595831|-87.613590958|(41.746595831, -8...|\n",
      "|12072697|   JD257284|06/06/2020 07:45:...|065XX S UNIVERSIT...|2820|       OTHER OFFENSE|    TELEPHONE THREAT|     OTHER (SPECIFY)| false|   false| 321|       3|   5|            42|     08A|     1184679|     1861785|2020|06/13/2020 03:42:...|41.775900146|-87.598529213|(41.775900146, -8...|\n",
      "|12126191|   JD321188|08/05/2020 01:00:...|025XX S MICHIGAN AVE|0454|             BATTERY|AGGRAVATED P.O. -...|HOSPITAL BUILDING...|  true|   false| 133|       1|   4|            33|     08B|     1177647|     1887564|2020|08/12/2020 03:41:...|41.846801978|-87.623527134|(41.846801978, -8...|\n",
      "+--------+-----------+--------------------+--------------------+----+--------------------+--------------------+--------------------+------+--------+----+--------+----+--------------+--------+------------+------------+----+--------------------+------------+-------------+--------------------+\n",
      "only showing top 20 rows\n",
      "\n"
     ]
    }
   ],
   "source": [
    "'''\n",
    "Removing all NULL values from the data frame.\n",
    "We remove the entire row if any of the cell is a NULL value\n",
    "'''\n",
    "new_data = data.na.drop()\n",
    "new_data.show()"
   ]
  },
  {
   "cell_type": "code",
   "execution_count": 12,
   "id": "faffdf46-17c3-4bd4-8225-6895d21846c9",
   "metadata": {
    "scrolled": true
   },
   "outputs": [],
   "source": [
    "'''\n",
    "Changing the Format of the 'Date' column. \n",
    "Initially, the 'Date' column has a string data type. See data.printSchema()\n",
    "The updated data frame 'new_data' will have the 'date' column in the 'timestamp' format\n",
    "'''\n",
    "\n",
    "new_data = new_data.withColumn(\"Date\", to_timestamp(col(\"Date\"),\"MM/dd/yyyy hh:mm:ss a\").cast('timestamp'))\n"
   ]
  },
  {
   "cell_type": "code",
   "execution_count": 13,
   "id": "de2d9cf3-e74c-4043-a20d-04de9ed19e52",
   "metadata": {},
   "outputs": [
    {
     "name": "stdout",
     "output_type": "stream",
     "text": [
      "+-------------------+\n",
      "|               Date|\n",
      "+-------------------+\n",
      "|2020-05-07 10:24:00|\n",
      "|2020-04-16 05:00:00|\n",
      "|2020-07-01 10:16:00|\n",
      "|2020-09-27 23:29:00|\n",
      "|2005-07-10 15:00:00|\n",
      "|2020-08-04 20:28:00|\n",
      "|2020-03-15 21:00:00|\n",
      "|2020-06-02 22:00:00|\n",
      "|2005-08-12 23:00:00|\n",
      "|2020-09-11 22:44:00|\n",
      "|2020-08-21 00:00:00|\n",
      "|2020-03-11 00:00:00|\n",
      "|2020-06-01 01:20:00|\n",
      "|2020-05-23 12:20:00|\n",
      "|2020-05-22 22:29:00|\n",
      "|2020-07-15 22:15:00|\n",
      "|2020-09-28 10:23:00|\n",
      "|2020-09-09 09:23:00|\n",
      "|2020-06-06 07:45:00|\n",
      "|2020-08-05 01:00:00|\n",
      "+-------------------+\n",
      "only showing top 20 rows\n",
      "\n"
     ]
    }
   ],
   "source": [
    "new_data.select('Date').show()"
   ]
  },
  {
   "cell_type": "code",
   "execution_count": 14,
   "id": "bf7fb18d-8c90-44ba-b3ad-976096de306e",
   "metadata": {},
   "outputs": [
    {
     "name": "stdout",
     "output_type": "stream",
     "text": [
      "root\n",
      " |-- ID: integer (nullable = true)\n",
      " |-- Case Number: string (nullable = true)\n",
      " |-- Date: timestamp (nullable = true)\n",
      " |-- Block: string (nullable = true)\n",
      " |-- IUCR: string (nullable = true)\n",
      " |-- Primary Type: string (nullable = true)\n",
      " |-- Description: string (nullable = true)\n",
      " |-- Location Description: string (nullable = true)\n",
      " |-- Arrest: boolean (nullable = true)\n",
      " |-- Domestic: boolean (nullable = true)\n",
      " |-- Beat: integer (nullable = true)\n",
      " |-- District: integer (nullable = true)\n",
      " |-- Ward: integer (nullable = true)\n",
      " |-- Community Area: integer (nullable = true)\n",
      " |-- FBI Code: string (nullable = true)\n",
      " |-- X Coordinate: integer (nullable = true)\n",
      " |-- Y Coordinate: integer (nullable = true)\n",
      " |-- Year: integer (nullable = true)\n",
      " |-- Updated On: string (nullable = true)\n",
      " |-- Latitude: double (nullable = true)\n",
      " |-- Longitude: double (nullable = true)\n",
      " |-- Location: string (nullable = true)\n",
      "\n"
     ]
    }
   ],
   "source": [
    "new_data.printSchema()"
   ]
  },
  {
   "cell_type": "markdown",
   "id": "5d4537ad-2c4e-4d7e-88dc-fb109b4e3731",
   "metadata": {},
   "source": [
    "#### Filter the data"
   ]
  },
  {
   "cell_type": "code",
   "execution_count": 15,
   "id": "3b45faf6-53d6-4087-9089-f6e6ba092afc",
   "metadata": {},
   "outputs": [
    {
     "name": "stdout",
     "output_type": "stream",
     "text": [
      "+--------+-----------+-------------------+--------------------+----+-----------------+--------------------+--------------------+------+--------+----+--------+----+--------------+--------+------------+------------+----+--------------------+------------+-------------+--------------------+\n",
      "|      ID|Case Number|               Date|               Block|IUCR|     Primary Type|         Description|Location Description|Arrest|Domestic|Beat|District|Ward|Community Area|FBI Code|X Coordinate|Y Coordinate|Year|          Updated On|    Latitude|    Longitude|            Location|\n",
      "+--------+-----------+-------------------+--------------------+----+-----------------+--------------------+--------------------+------+--------+----+--------+----+--------------+--------+------------+------------+----+--------------------+------------+-------------+--------------------+\n",
      "|12045583|   JD226426|2020-05-07 10:24:00| 035XX S INDIANA AVE|0820|            THEFT|      $500 AND UNDER|           APARTMENT| false|   false| 212|       2|   3|            35|      06|     1178180|     1881621|2020|05/14/2020 08:47:...|41.830481843|-87.621751752|(41.830481843, -8...|\n",
      "|12031001|   JD209965|2020-04-16 05:00:00|     005XX W 32ND ST|0460|          BATTERY|              SIMPLE|           APARTMENT|  true|   false| 915|       9|  11|            60|     08B|     1173292|     1883705|2020|04/23/2020 03:45:...|41.836310224|-87.639624112|(41.836310224, -8...|\n",
      "|12093529|   JD282112|2020-07-01 10:16:00|   081XX S COLES AVE|051A|          ASSAULT|AGGRAVATED - HANDGUN|              STREET|  true|   false| 422|       4|   7|            46|     04A|     1198234|     1851595|2020|07/08/2020 03:41:...|41.747609555|-87.549179329|(41.747609555, -8...|\n",
      "|12178140|   JD381597|2020-09-27 23:29:00| 065XX S WOLCOTT AVE|0460|          BATTERY|              SIMPLE|RESIDENCE - PORCH...| false|   false| 726|       7|  15|            67|     08B|     1164812|     1861251|2020|10/04/2020 03:43:...| 41.77487752|-87.671374872|(41.77487752, -87...|\n",
      "|12126129|   JD321064|2020-08-04 20:28:00| 081XX S LOOMIS BLVD|143A|WEAPONS VIOLATION|UNLAWFUL POSSESSI...|              STREET|  true|   false| 613|       6|  21|            71|      15|     1168412|     1850836|2020|08/11/2020 03:42:...|41.746220584|-87.658477307|(41.746220584, -8...|\n",
      "|12010314|   JD186932|2020-03-15 21:00:00|    051XX W HURON ST|2820|    OTHER OFFENSE|    TELEPHONE THREAT|           APARTMENT| false|   false|1531|      15|  37|            25|     08A|     1141763|     1904131|2020|03/22/2020 03:41:...|41.893002363|-87.754811709|(41.893002363, -8...|\n",
      "|12067286|   JD251718|2020-06-02 22:00:00| 042XX S EMERALD AVE|0820|            THEFT|      $500 AND UNDER|              STREET|  true|   false| 925|       9|  11|            61|      06|     1172009|     1876708|2020|06/09/2020 03:43:...|41.817138145|-87.644537728|(41.817138145, -8...|\n",
      "|12163191|   JD364357|2020-09-11 22:44:00|008XX N TRUMBULL AVE|0486|          BATTERY|DOMESTIC BATTERY ...|           RESIDENCE|  true|    true|1121|      11|  27|            23|     08B|     1153223|     1905475|2020|09/07/2021 03:41:...|41.896470682|-87.712687444|(41.896470682, -8...|\n",
      "|12142075|   JD339709|2020-08-21 00:00:00|015XX N MILWAUKEE...|0420|          BATTERY|AGGRAVATED - KNIF...|            SIDEWALK| false|   false|1424|      14|   1|            24|     04B|     1163078|     1910357|2020|08/28/2020 03:42:...| 41.90966592|-87.676354472|(41.90966592, -87...|\n",
      "|12005594|   JD181480|2020-03-11 00:00:00|     040XX W 26TH ST|0860|            THEFT|        RETAIL THEFT|  SMALL RETAIL STORE| false|   false|1031|      10|  22|            30|      06|     1150021|     1886423|2020|03/18/2020 03:41:...|41.844252757|-87.724943845|(41.844252757, -8...|\n",
      "|12070567|   JD249245|2020-06-01 01:20:00|024XX N MILWAUKEE...|0620|         BURGLARY|      UNLAWFUL ENTRY|  SMALL RETAIL STORE| false|   false|1414|      14|   1|            22|      05|     1156086|     1916141|2020|07/06/2020 03:40:...|41.925681769|-87.701883719|(41.925681769, -8...|\n",
      "|12057551|   JD240361|2020-05-23 12:20:00| 068XX S LOOMIS BLVD|0486|          BATTERY|DOMESTIC BATTERY ...|              STREET| false|    true| 724|       7|  17|            67|     08B|     1168179|     1859299|2020|09/07/2021 03:41:...|41.769449202|-87.659088027|(41.769449202, -8...|\n",
      "|12057185|   JD239952|2020-05-22 22:29:00|   0000X N LOREL AVE|2024|        NARCOTICS|POSSESS - HEROIN ...|              STREET|  true|   false|1522|      15|  28|            25|      18|     1140721|     1899686|2020|05/29/2020 03:41:...|41.880823946|-87.758747941|(41.880823946, -8...|\n",
      "|12107263|   JD298884|2020-07-15 22:15:00| 070XX S CHAPPEL AVE|0560|          ASSAULT|              SIMPLE|           APARTMENT| false|    true| 331|       3|   5|            43|     08A|     1191099|     1858560|2020|07/22/2020 03:42:...|41.766897557|-87.575098672|(41.766897557, -8...|\n",
      "|12178347|   JD382022|2020-09-28 10:23:00|038XX W JACKSON BLVD|2820|    OTHER OFFENSE|    TELEPHONE THREAT|     OTHER (SPECIFY)| false|   false|1133|      11|  28|            26|     08A|     1150770|     1898411|2020|10/05/2020 03:40:...|41.877134658|-87.721881801|(41.877134658, -8...|\n",
      "|12164381|   JD361415|2020-09-09 09:23:00|  081XX S VERNON AVE|0560|          ASSAULT|              SIMPLE|           RESIDENCE| false|   false| 631|       6|   6|            44|     08A|     1180660|     1851072|2020|09/16/2020 03:41:...|41.746595831|-87.613590958|(41.746595831, -8...|\n",
      "|12072697|   JD257284|2020-06-06 07:45:00|065XX S UNIVERSIT...|2820|    OTHER OFFENSE|    TELEPHONE THREAT|     OTHER (SPECIFY)| false|   false| 321|       3|   5|            42|     08A|     1184679|     1861785|2020|06/13/2020 03:42:...|41.775900146|-87.598529213|(41.775900146, -8...|\n",
      "|12126191|   JD321188|2020-08-05 01:00:00|025XX S MICHIGAN AVE|0454|          BATTERY|AGGRAVATED P.O. -...|HOSPITAL BUILDING...|  true|   false| 133|       1|   4|            33|     08B|     1177647|     1887564|2020|08/12/2020 03:41:...|41.846801978|-87.623527134|(41.846801978, -8...|\n",
      "|12018869|   JD196508|2020-03-27 23:20:00|066XX S SPAULDING...|141A|WEAPONS VIOLATION|UNLAWFUL USE - HA...|              STREET| false|   false| 831|       8|  15|            66|      15|     1155539|     1860219|2020|04/03/2020 03:58:...|41.772236394|-87.705396225|(41.772236394, -8...|\n",
      "|12068919|   JD253635|2020-06-04 14:15:00| 010XX W DIVISION ST|2820|    OTHER OFFENSE|    TELEPHONE THREAT|     OTHER (SPECIFY)| false|   false|1822|      18|  27|             8|     08A|     1169314|     1908181|2020|06/11/2020 03:42:...|41.903561493|-87.653509519|(41.903561493, -8...|\n",
      "+--------+-----------+-------------------+--------------------+----+-----------------+--------------------+--------------------+------+--------+----+--------+----+--------------+--------+------------+------------+----+--------------------+------------+-------------+--------------------+\n",
      "only showing top 20 rows\n",
      "\n"
     ]
    }
   ],
   "source": [
    "'''\n",
    "The data frame is filtered down to the crimes from 2013 to the present.\n",
    "'''\n",
    "new_data = new_data.filter(new_data['Date'] >= \"2013-10-21 00:00:00\")\n",
    "new_data.show()"
   ]
  },
  {
   "cell_type": "code",
   "execution_count": 16,
   "id": "f0d20128-b6f7-4328-bd50-e12c38636f4b",
   "metadata": {},
   "outputs": [
    {
     "name": "stdout",
     "output_type": "stream",
     "text": [
      "+-------+--------------------+-----------+------------------+------------------+-----------------+--------------------+--------------------+-----------------+------------------+------------------+------------------+------------------+------------------+------------------+------------------+--------------------+-------------------+--------------------+--------------------+\n",
      "|summary|                  ID|Case Number|             Block|              IUCR|     Primary Type|         Description|Location Description|             Beat|          District|              Ward|    Community Area|          FBI Code|      X Coordinate|      Y Coordinate|              Year|          Updated On|           Latitude|           Longitude|            Location|\n",
      "+-------+--------------------+-----------+------------------+------------------+-----------------+--------------------+--------------------+-----------------+------------------+------------------+------------------+------------------+------------------+------------------+------------------+--------------------+-------------------+--------------------+--------------------+\n",
      "|  count|             2481282|    2481282|           2481282|           2481282|          2481282|             2481282|             2481282|          2481282|           2481282|           2481282|           2481282|           2481282|           2481282|           2481282|           2481282|             2481282|            2481282|             2481282|             2481282|\n",
      "|   mean|1.1321158086290877E7|   161884.0|              NULL|1084.5614837037906|             NULL|                NULL|                NULL|1145.022025307885|11.221512911470764|23.091494638658563|36.963265763423905|11.412829622444859| 1164858.330000379|1886143.5394147057|2018.1151352405732|                NULL|  41.84316851421615|  -87.67054265410293|                NULL|\n",
      "| stddev|   1241921.686215326|       NULL|              NULL| 830.8529203077208|             NULL|                NULL|                NULL|696.8907493505837|  6.96274724014188|13.932001447846426|21.451798270524314|7.0502428511887985|16515.429287833653|31675.710172495994|2.9117793247529837|                NULL|0.08712264617699642|0.060051868099052275|                NULL|\n",
      "|    min|               21132|     161884|  0000X E 100TH PL|              0110|            ARSON|      $500 AND UNDER|\"CTA \"\"L\"\" PLATFORM\"|              111|                 1|                 1|                 1|               01A|                 0|                 0|              2013|01/01/2016 03:54:...|       36.619446395|       -91.686565684|(36.619446395, -9...|\n",
      "|    max|            13250363|   ZZ376673|137XX S LEYDEN AVE|              5132|WEAPONS VIOLATION|VIOLENT OFFENDER:...|                YMCA|             2535|                31|                50|                77|                27|           1205119|           1951535|              2023|12/31/2022 03:40:...|       42.022671246|       -87.524529378|(42.022671246, -8...|\n",
      "+-------+--------------------+-----------+------------------+------------------+-----------------+--------------------+--------------------+-----------------+------------------+------------------+------------------+------------------+------------------+------------------+------------------+--------------------+-------------------+--------------------+--------------------+\n",
      "\n"
     ]
    }
   ],
   "source": [
    "new_data.describe().show()"
   ]
  },
  {
   "cell_type": "markdown",
   "id": "54b9ae24-0ad9-4832-bf02-435b3fb76145",
   "metadata": {},
   "source": [
    "##### As we filtered the data frame to the cases from 2013, the number of records have become around 2 million"
   ]
  },
  {
   "cell_type": "code",
   "execution_count": 17,
   "id": "8e66721f-c658-476b-a002-de307294a592",
   "metadata": {
    "scrolled": true
   },
   "outputs": [
    {
     "name": "stdout",
     "output_type": "stream",
     "text": [
      "+--------+-----------+-------------------+--------------------+----+-------------------+--------------------+--------------------+------+--------+----+--------+----+--------------+--------+------------+------------+----+--------------------+------------+-------------+--------------------+\n",
      "|      ID|Case Number|               Date|               Block|IUCR|       Primary Type|         Description|Location Description|Arrest|Domestic|Beat|District|Ward|Community Area|FBI Code|X Coordinate|Y Coordinate|Year|          Updated On|    Latitude|    Longitude|            Location|\n",
      "+--------+-----------+-------------------+--------------------+----+-------------------+--------------------+--------------------+------+--------+----+--------+----+--------------+--------+------------+------------+----+--------------------+------------+-------------+--------------------+\n",
      "|12045583|   JD226426|2020-05-07 10:24:00| 035XX S INDIANA AVE|0820|              THEFT|      $500 AND UNDER|           APARTMENT| false|   false| 212|       2|   3|            35|      06|     1178180|     1881621|2020|05/14/2020 08:47:...|41.830481843|-87.621751752|(41.830481843, -8...|\n",
      "|12031001|   JD209965|2020-04-16 05:00:00|     005XX W 32ND ST|0460|            BATTERY|              SIMPLE|           APARTMENT|  true|   false| 915|       9|  11|            60|     08B|     1173292|     1883705|2020|04/23/2020 03:45:...|41.836310224|-87.639624112|(41.836310224, -8...|\n",
      "|12093529|   JD282112|2020-07-01 10:16:00|   081XX S COLES AVE|051A|            ASSAULT|AGGRAVATED - HANDGUN|              STREET|  true|   false| 422|       4|   7|            46|     04A|     1198234|     1851595|2020|07/08/2020 03:41:...|41.747609555|-87.549179329|(41.747609555, -8...|\n",
      "|12178140|   JD381597|2020-09-27 23:29:00| 065XX S WOLCOTT AVE|0460|            BATTERY|              SIMPLE|RESIDENCE - PORCH...| false|   false| 726|       7|  15|            67|     08B|     1164812|     1861251|2020|10/04/2020 03:43:...| 41.77487752|-87.671374872|(41.77487752, -87...|\n",
      "|12126129|   JD321064|2020-08-04 20:28:00| 081XX S LOOMIS BLVD|143A|  WEAPONS VIOLATION|UNLAWFUL POSSESSI...|              STREET|  true|   false| 613|       6|  21|            71|      15|     1168412|     1850836|2020|08/11/2020 03:42:...|41.746220584|-87.658477307|(41.746220584, -8...|\n",
      "|12067286|   JD251718|2020-06-02 22:00:00| 042XX S EMERALD AVE|0820|              THEFT|      $500 AND UNDER|              STREET|  true|   false| 925|       9|  11|            61|      06|     1172009|     1876708|2020|06/09/2020 03:43:...|41.817138145|-87.644537728|(41.817138145, -8...|\n",
      "|12163191|   JD364357|2020-09-11 22:44:00|008XX N TRUMBULL AVE|0486|            BATTERY|DOMESTIC BATTERY ...|           RESIDENCE|  true|    true|1121|      11|  27|            23|     08B|     1153223|     1905475|2020|09/07/2021 03:41:...|41.896470682|-87.712687444|(41.896470682, -8...|\n",
      "|12142075|   JD339709|2020-08-21 00:00:00|015XX N MILWAUKEE...|0420|            BATTERY|AGGRAVATED - KNIF...|            SIDEWALK| false|   false|1424|      14|   1|            24|     04B|     1163078|     1910357|2020|08/28/2020 03:42:...| 41.90966592|-87.676354472|(41.90966592, -87...|\n",
      "|12005594|   JD181480|2020-03-11 00:00:00|     040XX W 26TH ST|0860|              THEFT|        RETAIL THEFT|  SMALL RETAIL STORE| false|   false|1031|      10|  22|            30|      06|     1150021|     1886423|2020|03/18/2020 03:41:...|41.844252757|-87.724943845|(41.844252757, -8...|\n",
      "|12070567|   JD249245|2020-06-01 01:20:00|024XX N MILWAUKEE...|0620|           BURGLARY|      UNLAWFUL ENTRY|  SMALL RETAIL STORE| false|   false|1414|      14|   1|            22|      05|     1156086|     1916141|2020|07/06/2020 03:40:...|41.925681769|-87.701883719|(41.925681769, -8...|\n",
      "|12057551|   JD240361|2020-05-23 12:20:00| 068XX S LOOMIS BLVD|0486|            BATTERY|DOMESTIC BATTERY ...|              STREET| false|    true| 724|       7|  17|            67|     08B|     1168179|     1859299|2020|09/07/2021 03:41:...|41.769449202|-87.659088027|(41.769449202, -8...|\n",
      "|12057185|   JD239952|2020-05-22 22:29:00|   0000X N LOREL AVE|2024|          NARCOTICS|POSSESS - HEROIN ...|              STREET|  true|   false|1522|      15|  28|            25|      18|     1140721|     1899686|2020|05/29/2020 03:41:...|41.880823946|-87.758747941|(41.880823946, -8...|\n",
      "|12107263|   JD298884|2020-07-15 22:15:00| 070XX S CHAPPEL AVE|0560|            ASSAULT|              SIMPLE|           APARTMENT| false|    true| 331|       3|   5|            43|     08A|     1191099|     1858560|2020|07/22/2020 03:42:...|41.766897557|-87.575098672|(41.766897557, -8...|\n",
      "|12164381|   JD361415|2020-09-09 09:23:00|  081XX S VERNON AVE|0560|            ASSAULT|              SIMPLE|           RESIDENCE| false|   false| 631|       6|   6|            44|     08A|     1180660|     1851072|2020|09/16/2020 03:41:...|41.746595831|-87.613590958|(41.746595831, -8...|\n",
      "|12126191|   JD321188|2020-08-05 01:00:00|025XX S MICHIGAN AVE|0454|            BATTERY|AGGRAVATED P.O. -...|HOSPITAL BUILDING...|  true|   false| 133|       1|   4|            33|     08B|     1177647|     1887564|2020|08/12/2020 03:41:...|41.846801978|-87.623527134|(41.846801978, -8...|\n",
      "|12018869|   JD196508|2020-03-27 23:20:00|066XX S SPAULDING...|141A|  WEAPONS VIOLATION|UNLAWFUL USE - HA...|              STREET| false|   false| 831|       8|  15|            66|      15|     1155539|     1860219|2020|04/03/2020 03:58:...|41.772236394|-87.705396225|(41.772236394, -8...|\n",
      "|12044629|   JD225380|2020-05-05 22:00:00|   079XX S THROOP ST|0810|              THEFT|           OVER $500|              STREET| false|   false| 612|       6|  21|            71|      06|     1169042|     1851982|2020|05/12/2020 03:42:...|41.749351783|-87.656135797|(41.749351783, -8...|\n",
      "|12157580|   JD357987|2020-09-05 23:50:00| 022XX W MAYPOLE AVE|0486|            BATTERY|DOMESTIC BATTERY ...|       CHA APARTMENT| false|    true|1223|      12|  27|            28|     08B|     1161251|     1900967|2020|09/12/2020 03:41:...|41.883937205|-87.683327432|(41.883937205, -8...|\n",
      "|12045468|   JD225478|2020-05-05 22:00:00|    104XX S AVENUE M|0910|MOTOR VEHICLE THEFT|          AUTOMOBILE|DRIVEWAY - RESIDE...| false|   false| 432|       4|  10|            52|      07|     1201505|     1836426|2020|05/12/2020 03:42:...|41.705902269|-87.537707456|(41.705902269, -8...|\n",
      "|12132877|   JD329246|2020-08-12 02:20:00|102XX S DR MARTIN...|1310|    CRIMINAL DAMAGE|         TO PROPERTY|           RESIDENCE| false|   false| 511|       5|   9|            49|      14|     1180720|     1837168|2020|08/19/2020 03:51:...|41.708440181|-87.613796977|(41.708440181, -8...|\n",
      "+--------+-----------+-------------------+--------------------+----+-------------------+--------------------+--------------------+------+--------+----+--------+----+--------------+--------+------------+------------+----+--------------------+------------+-------------+--------------------+\n",
      "only showing top 20 rows\n",
      "\n"
     ]
    }
   ],
   "source": [
    "'''\n",
    "All the records with the crime types - \n",
    "- 'NON-CRIMINAL (SUBJECT SPECIFIED)'\n",
    "- 'OTHER OFFENSE'\n",
    "- 'STALKING'\n",
    "- 'NON - CRIMINAL'\n",
    "- 'ARSON'\n",
    "are removed from the dataset\n",
    "The column that describes the crime type is 'Primary Type'.\n",
    "'''\n",
    "non_crimes = ['NON-CRIMINAL (SUBJECT SPECIFIED)','OTHER OFFENSE','STALKING','NON - CRIMINAL','NON-CRIMINAL','ARSON']\n",
    "new_data = new_data.filter(col(\"Primary Type\").isin(non_crimes) == False)\n",
    "new_data.show()"
   ]
  },
  {
   "cell_type": "code",
   "execution_count": 18,
   "id": "b78178f4-011c-4415-b763-e167b413f951",
   "metadata": {},
   "outputs": [],
   "source": [
    "new_data = new_data.cache()"
   ]
  },
  {
   "cell_type": "markdown",
   "id": "9b8282fe-8cc2-478e-a060-791974b22af9",
   "metadata": {},
   "source": [
    "#### Merging Similar Crimes"
   ]
  },
  {
   "cell_type": "code",
   "execution_count": 19,
   "id": "17334787-3ceb-4220-98b2-842265504563",
   "metadata": {},
   "outputs": [
    {
     "data": {
      "text/plain": [
       "[Row(Primary Type='OFFENSE INVOLVING CHILDREN'),\n",
       " Row(Primary Type='CRIMINAL SEXUAL ASSAULT'),\n",
       " Row(Primary Type='PUBLIC PEACE VIOLATION'),\n",
       " Row(Primary Type='OBSCENITY'),\n",
       " Row(Primary Type='GAMBLING'),\n",
       " Row(Primary Type='CRIMINAL TRESPASS'),\n",
       " Row(Primary Type='ASSAULT'),\n",
       " Row(Primary Type='LIQUOR LAW VIOLATION'),\n",
       " Row(Primary Type='MOTOR VEHICLE THEFT'),\n",
       " Row(Primary Type='THEFT'),\n",
       " Row(Primary Type='BATTERY'),\n",
       " Row(Primary Type='ROBBERY'),\n",
       " Row(Primary Type='HOMICIDE'),\n",
       " Row(Primary Type='RITUALISM'),\n",
       " Row(Primary Type='PUBLIC INDECENCY'),\n",
       " Row(Primary Type='CRIM SEXUAL ASSAULT'),\n",
       " Row(Primary Type='HUMAN TRAFFICKING'),\n",
       " Row(Primary Type='INTIMIDATION'),\n",
       " Row(Primary Type='PROSTITUTION'),\n",
       " Row(Primary Type='DECEPTIVE PRACTICE'),\n",
       " Row(Primary Type='CONCEALED CARRY LICENSE VIOLATION'),\n",
       " Row(Primary Type='SEX OFFENSE'),\n",
       " Row(Primary Type='CRIMINAL DAMAGE'),\n",
       " Row(Primary Type='NARCOTICS'),\n",
       " Row(Primary Type='KIDNAPPING'),\n",
       " Row(Primary Type='BURGLARY'),\n",
       " Row(Primary Type='WEAPONS VIOLATION'),\n",
       " Row(Primary Type='OTHER NARCOTIC VIOLATION'),\n",
       " Row(Primary Type='INTERFERENCE WITH PUBLIC OFFICER')]"
      ]
     },
     "execution_count": 19,
     "metadata": {},
     "output_type": "execute_result"
    }
   ],
   "source": [
    "'''\n",
    "For example, change 'Primary Type' of cases that have 'Primary Type' as ‘SEX OFFENSE’ or \n",
    "‘PROSTITUTION’ such that they should have the same 'Primary Type'.\n",
    "First, the distinct crime types are extracted from the data frame\n",
    "'''\n",
    "new_data.select('Primary Type').distinct().collect()"
   ]
  },
  {
   "cell_type": "code",
   "execution_count": 20,
   "id": "63b298fb-a283-40e8-99ac-49e96818e329",
   "metadata": {},
   "outputs": [],
   "source": [
    "'''\n",
    "The primary crime types are categorized into eight groups. The two already existing ones - \n",
    "'GAMBLING' and 'OFFENSE INVOLVING CHILDREN'.\n",
    "The remaining six are as follows\n",
    "'''\n",
    "sex_offense = [\"SEX OFFENSE\", \"PROSTITUTION\",'CRIMINAL SEXUAL ASSAULT', 'CRIM SEXUAL ASSAULT']\n",
    "public_violence = ['PUBLIC PEACE VIOLATION', 'OBSCENITY', 'CRIMINAL TRESPASS', 'RITUALISM', 'PUBLIC INDECENCY', 'INTIMIDATION', 'DECEPTIVE PRACTICE', 'CRIMINAL DAMAGE', 'INTERFERENCE WITH PUBLIC OFFICER']\n",
    "assault = ['ASSAULT', 'HOMICIDE', 'HUMAN TRAFFICKING', 'KIDNAPPING']\n",
    "robbery = ['MOTOR VEHICLE THEFT', 'THEFT', 'BATTERY', 'ROBBERY', 'BURGLARY']\n",
    "weapons = ['CONCEALED CARRY LICENSE VIOLATION', 'WEAPONS VIOLATION']\n",
    "narcotics = ['LIQUOR LAW VIOLATION', 'NARCOTICS', 'OTHER NARCOTIC VIOLATION']"
   ]
  },
  {
   "cell_type": "code",
   "execution_count": 21,
   "id": "455668a9-2b3f-4e78-be59-c60f36aab64a",
   "metadata": {},
   "outputs": [
    {
     "data": {
      "text/plain": [
       "[Row(Primary Type='OFFENSE INVOLVING CHILDREN'),\n",
       " Row(Primary Type='DRUGS & NARCOTICS'),\n",
       " Row(Primary Type='GAMBLING'),\n",
       " Row(Primary Type='ASSAULT'),\n",
       " Row(Primary Type='ROBBERY'),\n",
       " Row(Primary Type='PUBLIC_VIOLENCE'),\n",
       " Row(Primary Type='WEAPONARY'),\n",
       " Row(Primary Type='SEX_OFFENSE')]"
      ]
     },
     "execution_count": 21,
     "metadata": {},
     "output_type": "execute_result"
    }
   ],
   "source": [
    "final_data = new_data.withColumn(\"Primary Type\", when(new_data[\"Primary Type\"].isin(sex_offense), \"SEX_OFFENSE\").\n",
    "                                 when(new_data[\"Primary Type\"].isin(public_violence), \"PUBLIC_VIOLENCE\").\n",
    "                                 when(new_data[\"Primary Type\"].isin(assault), \"ASSAULT\").\n",
    "                                 when(new_data[\"Primary Type\"].isin(robbery), \"ROBBERY\").\n",
    "                                 when(new_data[\"Primary Type\"].isin(weapons), \"WEAPONARY\").\n",
    "                                 when(new_data[\"Primary Type\"].isin(narcotics), \"DRUGS & NARCOTICS\").\n",
    "                                 when(new_data[\"Primary Type\"] == \"OFFENSE INVOLVING CHILDREN\", \"OFFENSE INVOLVING CHILDREN\").\n",
    "                                 when(new_data[\"Primary Type\"] == \"GAMBLING\", \"GAMBLING\"))\n",
    "final_data.select('Primary Type').distinct().collect()"
   ]
  },
  {
   "cell_type": "code",
   "execution_count": 22,
   "id": "906a1be7-2662-4896-9c5e-294f32c3eab6",
   "metadata": {},
   "outputs": [],
   "source": [
    "final_data = final_data.cache()"
   ]
  },
  {
   "cell_type": "markdown",
   "id": "22df1f7e-5647-4f45-be40-9e6154a2dd4c",
   "metadata": {},
   "source": [
    "## DATA ANALYSIS"
   ]
  },
  {
   "cell_type": "markdown",
   "id": "db8ea647-84a3-42a0-ab86-a91ffd95a840",
   "metadata": {},
   "source": [
    "### 1) Year-Wise Trend in Crime"
   ]
  },
  {
   "cell_type": "code",
   "execution_count": 23,
   "id": "c30a289e-f20b-4881-b6c1-2936f868ea24",
   "metadata": {},
   "outputs": [],
   "source": [
    "import matplotlib.pyplot as plt \n",
    "import seaborn as sns\n",
    "import pandas as pd"
   ]
  },
  {
   "cell_type": "code",
   "execution_count": 29,
   "id": "144b9610-cf42-4d08-ae63-f1a64f6e98b8",
   "metadata": {
    "scrolled": true
   },
   "outputs": [
    {
     "name": "stdout",
     "output_type": "stream",
     "text": [
      "+----+------+\n",
      "|Year|count |\n",
      "+----+------+\n",
      "|2013|50855 |\n",
      "|2014|256108|\n",
      "|2015|239877|\n",
      "|2016|248541|\n",
      "|2017|246524|\n",
      "|2018|245342|\n",
      "|2019|240846|\n",
      "|2020|193863|\n",
      "|2021|187548|\n",
      "|2022|217403|\n",
      "|2023|189785|\n",
      "+----+------+\n",
      "\n"
     ]
    }
   ],
   "source": [
    "year_wise = final_data.groupby(['Year']).count()\n",
    "year_wise_counts = year_wise.orderBy('Year', ascending = True)\n",
    "year_wise_counts.show(truncate = False)"
   ]
  },
  {
   "cell_type": "code",
   "execution_count": 30,
   "id": "c6c34faf-073c-4ea1-9256-f4aec23deb1f",
   "metadata": {},
   "outputs": [
    {
     "data": {
      "text/html": [
       "<div>\n",
       "<style scoped>\n",
       "    .dataframe tbody tr th:only-of-type {\n",
       "        vertical-align: middle;\n",
       "    }\n",
       "\n",
       "    .dataframe tbody tr th {\n",
       "        vertical-align: top;\n",
       "    }\n",
       "\n",
       "    .dataframe thead th {\n",
       "        text-align: right;\n",
       "    }\n",
       "</style>\n",
       "<table border=\"1\" class=\"dataframe\">\n",
       "  <thead>\n",
       "    <tr style=\"text-align: right;\">\n",
       "      <th></th>\n",
       "      <th>Year</th>\n",
       "      <th>count</th>\n",
       "    </tr>\n",
       "  </thead>\n",
       "  <tbody>\n",
       "    <tr>\n",
       "      <th>0</th>\n",
       "      <td>2013</td>\n",
       "      <td>50855</td>\n",
       "    </tr>\n",
       "    <tr>\n",
       "      <th>1</th>\n",
       "      <td>2014</td>\n",
       "      <td>256108</td>\n",
       "    </tr>\n",
       "    <tr>\n",
       "      <th>2</th>\n",
       "      <td>2015</td>\n",
       "      <td>239877</td>\n",
       "    </tr>\n",
       "    <tr>\n",
       "      <th>3</th>\n",
       "      <td>2016</td>\n",
       "      <td>248541</td>\n",
       "    </tr>\n",
       "    <tr>\n",
       "      <th>4</th>\n",
       "      <td>2017</td>\n",
       "      <td>246524</td>\n",
       "    </tr>\n",
       "  </tbody>\n",
       "</table>\n",
       "</div>"
      ],
      "text/plain": [
       "   Year   count\n",
       "0  2013   50855\n",
       "1  2014  256108\n",
       "2  2015  239877\n",
       "3  2016  248541\n",
       "4  2017  246524"
      ]
     },
     "execution_count": 30,
     "metadata": {},
     "output_type": "execute_result"
    }
   ],
   "source": [
    "'''\n",
    "We convert the above into a pandas dataframe for easy cisualization using matplotlib\n",
    "'''\n",
    "year_wise_pd = year_wise_counts.toPandas()\n",
    "year_wise_pd.head(5)"
   ]
  },
  {
   "cell_type": "code",
   "execution_count": 31,
   "id": "da34f3b0-5d3e-43d9-9b80-3f4e941070be",
   "metadata": {},
   "outputs": [
    {
     "data": {
      "text/plain": [
       "[Text(0.5, 0, 'Year: 2013 - 2023'),\n",
       " Text(0, 0.5, 'Number of Crimes'),\n",
       " Text(0.5, 1.0, 'Year-wise Crime Trend')]"
      ]
     },
     "execution_count": 31,
     "metadata": {},
     "output_type": "execute_result"
    },
    {
     "data": {
      "image/png": "[encoded data removed]",
      "text/plain": [
       "<Figure size 640x480 with 1 Axes>"
      ]
     },
     "metadata": {},
     "output_type": "display_data"
    }
   ],
   "source": [
    "fig, ax = plt.subplots()\n",
    "ax.plot(year_wise_pd['Year'], year_wise_pd['count'])\n",
    "ax.set(xlabel = 'Year: 2013 - 2023', ylabel = 'Number of Crimes', title = \"Year-wise Crime Trend\")"
   ]
  },
  {
   "cell_type": "markdown",
   "id": "1e40a471-a984-4425-bb57-617c88045ed9",
   "metadata": {},
   "source": [
    "From the above graph, we can infer the following - \n",
    "- The crime rates are mildly decreasing each year.\n",
    "- The exception was in 2016 and 2022 when there was a surge in the number of crimes.\n",
    "- The decline of crime rates in 2020 and 2021 could be credited to the COVID-19 pandemic [How COVID-19 Changed Crime in the U.S.](https://publicaffairs.northeastern.edu/articles/us-crime-rate-during-pandemic/). However, different crimes responded differently to the pandemic.\n"
   ]
  },
  {
   "cell_type": "markdown",
   "id": "521a23a9-cfda-4f7d-a457-d22adaad41c9",
   "metadata": {},
   "source": [
    "### 2) The Hour of Crimes!"
   ]
  },
  {
   "cell_type": "code",
   "execution_count": 43,
   "id": "b5cc4cc0-72a5-4abc-a061-9eec61c65255",
   "metadata": {},
   "outputs": [
    {
     "name": "stdout",
     "output_type": "stream",
     "text": [
      "+----+\n",
      "|Hour|\n",
      "+----+\n",
      "|  10|\n",
      "|   5|\n",
      "|  10|\n",
      "|  23|\n",
      "|  20|\n",
      "|  22|\n",
      "|  22|\n",
      "|   0|\n",
      "|   0|\n",
      "|   1|\n",
      "|  12|\n",
      "|  22|\n",
      "|  22|\n",
      "|   9|\n",
      "|   1|\n",
      "|  23|\n",
      "|  22|\n",
      "|  23|\n",
      "|  22|\n",
      "|   2|\n",
      "+----+\n",
      "only showing top 20 rows\n",
      "\n"
     ]
    }
   ],
   "source": [
    "'''\n",
    "We can easily extract the hour portion from the timestamp in 'Date' column and save it as a different column\n",
    "'''\n",
    "Hour = final_data.withColumn('Hour', hour(final_data['Date']))\n",
    "Hour.select('Hour').show()"
   ]
  },
  {
   "cell_type": "code",
   "execution_count": 46,
   "id": "7e09e3d4-ccd7-4ef3-9d41-78e74dbf6394",
   "metadata": {},
   "outputs": [
    {
     "name": "stdout",
     "output_type": "stream",
     "text": [
      "+----+------+\n",
      "|Hour|count |\n",
      "+----+------+\n",
      "|0   |127059|\n",
      "|1   |73169 |\n",
      "|2   |63659 |\n",
      "|3   |53266 |\n",
      "|4   |42152 |\n",
      "|5   |36385 |\n",
      "|6   |41057 |\n",
      "|7   |55406 |\n",
      "|8   |77643 |\n",
      "|9   |100136|\n",
      "|10  |100009|\n",
      "|11  |103704|\n",
      "|12  |133974|\n",
      "|13  |109569|\n",
      "|14  |115305|\n",
      "|15  |126498|\n",
      "|16  |122951|\n",
      "|17  |125453|\n",
      "|18  |130589|\n",
      "|19  |129211|\n",
      "+----+------+\n",
      "only showing top 20 rows\n",
      "\n"
     ]
    }
   ],
   "source": [
    "Hour_count = Hour.groupBy(['Hour']).count()\n",
    "hour_wise_counts = Hour_count.orderBy('Hour', ascending = True)\n",
    "hour_wise_counts.show(truncate = False)"
   ]
  },
  {
   "cell_type": "code",
   "execution_count": 47,
   "id": "5ef2ba2a-e456-45fb-a3df-a1588eafd440",
   "metadata": {},
   "outputs": [
    {
     "data": {
      "text/html": [
       "<div>\n",
       "<style scoped>\n",
       "    .dataframe tbody tr th:only-of-type {\n",
       "        vertical-align: middle;\n",
       "    }\n",
       "\n",
       "    .dataframe tbody tr th {\n",
       "        vertical-align: top;\n",
       "    }\n",
       "\n",
       "    .dataframe thead th {\n",
       "        text-align: right;\n",
       "    }\n",
       "</style>\n",
       "<table border=\"1\" class=\"dataframe\">\n",
       "  <thead>\n",
       "    <tr style=\"text-align: right;\">\n",
       "      <th></th>\n",
       "      <th>Hour</th>\n",
       "      <th>count</th>\n",
       "    </tr>\n",
       "  </thead>\n",
       "  <tbody>\n",
       "    <tr>\n",
       "      <th>0</th>\n",
       "      <td>0</td>\n",
       "      <td>127059</td>\n",
       "    </tr>\n",
       "    <tr>\n",
       "      <th>1</th>\n",
       "      <td>1</td>\n",
       "      <td>73169</td>\n",
       "    </tr>\n",
       "    <tr>\n",
       "      <th>2</th>\n",
       "      <td>2</td>\n",
       "      <td>63659</td>\n",
       "    </tr>\n",
       "    <tr>\n",
       "      <th>3</th>\n",
       "      <td>3</td>\n",
       "      <td>53266</td>\n",
       "    </tr>\n",
       "    <tr>\n",
       "      <th>4</th>\n",
       "      <td>4</td>\n",
       "      <td>42152</td>\n",
       "    </tr>\n",
       "  </tbody>\n",
       "</table>\n",
       "</div>"
      ],
      "text/plain": [
       "   Hour   count\n",
       "0     0  127059\n",
       "1     1   73169\n",
       "2     2   63659\n",
       "3     3   53266\n",
       "4     4   42152"
      ]
     },
     "execution_count": 47,
     "metadata": {},
     "output_type": "execute_result"
    }
   ],
   "source": [
    "'''\n",
    "A new pandas dataframe with the count of crimes in each hour is created\n",
    "'''\n",
    "hour_pd = hour_wise_counts.toPandas()\n",
    "hour_pd.head(5)"
   ]
  },
  {
   "cell_type": "code",
   "execution_count": 60,
   "id": "68875b25-cffb-409a-887b-18aef63f7249",
   "metadata": {},
   "outputs": [
    {
     "data": {
      "image/png": "[encoded data removed]",
      "text/plain": [
       "<Figure size 640x480 with 1 Axes>"
      ]
     },
     "metadata": {},
     "output_type": "display_data"
    }
   ],
   "source": [
    "fig, ax = plt.subplots()\n",
    "ax.plot(hour_pd['Hour'], hour_pd['count'])\n",
    "ax.set(xlabel = 'Hour of the day', ylabel = 'Number of Crimes', title = \"Hour-wise Crime Trend\")\n",
    "ax.grid()"
   ]
  },
  {
   "cell_type": "markdown",
   "id": "8438d5cd-7566-42b6-b5ec-30a875bfb5aa",
   "metadata": {},
   "source": [
    "From the above graph, we can infer - \n",
    "- The Hour of Crimes title is shared by 00 and 12 hours. And to surprise, 12 in the midday has more crimes!\n",
    "- The crimes are the least in the early hours of the day and dawn.\n",
    "- The number of crimes from 09 to 23 hours tends to be high throughout."
   ]
  },
  {
   "cell_type": "markdown",
   "id": "71765777-56c9-45e1-917e-4394962557b9",
   "metadata": {},
   "source": [
    "### 3) Top Ten Crimes"
   ]
  },
  {
   "cell_type": "code",
   "execution_count": 51,
   "id": "72272540-c56f-4ef8-bcfe-85720c9cdcfc",
   "metadata": {},
   "outputs": [
    {
     "name": "stdout",
     "output_type": "stream",
     "text": [
      "+-------------------+------+\n",
      "|       Primary Type| count|\n",
      "+-------------------+------+\n",
      "|              THEFT|557760|\n",
      "|            BATTERY|462883|\n",
      "|    CRIMINAL DAMAGE|275898|\n",
      "|            ASSAULT|192592|\n",
      "| DECEPTIVE PRACTICE|157010|\n",
      "|MOTOR VEHICLE THEFT|128518|\n",
      "|          NARCOTICS|128111|\n",
      "|           BURGLARY|108194|\n",
      "|            ROBBERY| 96317|\n",
      "|  WEAPONS VIOLATION| 59936|\n",
      "+-------------------+------+\n",
      "only showing top 10 rows\n",
      "\n"
     ]
    }
   ],
   "source": [
    "'''\n",
    "In this part of the analysis, the top ten categories of extracted along with their counts.\n",
    "The new_data pyspark data frame is used instead of teh final_data as the 'primary_type' in 'final_data' is regrouped.\n",
    "'''\n",
    "crime_types = new_data.groupBy('Primary Type').count()\n",
    "crime_types_count = crime_types.orderBy('count', ascending = False)\n",
    "crime_types_count.show(10)"
   ]
  },
  {
   "cell_type": "code",
   "execution_count": 54,
   "id": "4dbe9530-9179-4310-8bf4-1a2b77a30ffd",
   "metadata": {},
   "outputs": [
    {
     "data": {
      "text/html": [
       "<div>\n",
       "<style scoped>\n",
       "    .dataframe tbody tr th:only-of-type {\n",
       "        vertical-align: middle;\n",
       "    }\n",
       "\n",
       "    .dataframe tbody tr th {\n",
       "        vertical-align: top;\n",
       "    }\n",
       "\n",
       "    .dataframe thead th {\n",
       "        text-align: right;\n",
       "    }\n",
       "</style>\n",
       "<table border=\"1\" class=\"dataframe\">\n",
       "  <thead>\n",
       "    <tr style=\"text-align: right;\">\n",
       "      <th></th>\n",
       "      <th>Primary Type</th>\n",
       "      <th>count</th>\n",
       "    </tr>\n",
       "  </thead>\n",
       "  <tbody>\n",
       "    <tr>\n",
       "      <th>0</th>\n",
       "      <td>THEFT</td>\n",
       "      <td>557760</td>\n",
       "    </tr>\n",
       "    <tr>\n",
       "      <th>1</th>\n",
       "      <td>BATTERY</td>\n",
       "      <td>462883</td>\n",
       "    </tr>\n",
       "    <tr>\n",
       "      <th>2</th>\n",
       "      <td>CRIMINAL DAMAGE</td>\n",
       "      <td>275898</td>\n",
       "    </tr>\n",
       "    <tr>\n",
       "      <th>3</th>\n",
       "      <td>ASSAULT</td>\n",
       "      <td>192592</td>\n",
       "    </tr>\n",
       "    <tr>\n",
       "      <th>4</th>\n",
       "      <td>DECEPTIVE PRACTICE</td>\n",
       "      <td>157010</td>\n",
       "    </tr>\n",
       "    <tr>\n",
       "      <th>5</th>\n",
       "      <td>MOTOR VEHICLE THEFT</td>\n",
       "      <td>128518</td>\n",
       "    </tr>\n",
       "    <tr>\n",
       "      <th>6</th>\n",
       "      <td>NARCOTICS</td>\n",
       "      <td>128111</td>\n",
       "    </tr>\n",
       "    <tr>\n",
       "      <th>7</th>\n",
       "      <td>BURGLARY</td>\n",
       "      <td>108194</td>\n",
       "    </tr>\n",
       "    <tr>\n",
       "      <th>8</th>\n",
       "      <td>ROBBERY</td>\n",
       "      <td>96317</td>\n",
       "    </tr>\n",
       "    <tr>\n",
       "      <th>9</th>\n",
       "      <td>WEAPONS VIOLATION</td>\n",
       "      <td>59936</td>\n",
       "    </tr>\n",
       "  </tbody>\n",
       "</table>\n",
       "</div>"
      ],
      "text/plain": [
       "          Primary Type   count\n",
       "0                THEFT  557760\n",
       "1              BATTERY  462883\n",
       "2      CRIMINAL DAMAGE  275898\n",
       "3              ASSAULT  192592\n",
       "4   DECEPTIVE PRACTICE  157010\n",
       "5  MOTOR VEHICLE THEFT  128518\n",
       "6            NARCOTICS  128111\n",
       "7             BURGLARY  108194\n",
       "8              ROBBERY   96317\n",
       "9    WEAPONS VIOLATION   59936"
      ]
     },
     "execution_count": 54,
     "metadata": {},
     "output_type": "execute_result"
    }
   ],
   "source": [
    "'''\n",
    "The pandas data frame is created for the top ten crimes\n",
    "'''\n",
    "top_crimes_pd = crime_types_count.limit(10).toPandas()\n",
    "top_crimes_pd"
   ]
  },
  {
   "cell_type": "code",
   "execution_count": 59,
   "id": "b8398134-86de-4360-8fc7-c115819f1e08",
   "metadata": {},
   "outputs": [
    {
     "data": {
      "image/png": "[encoded data removed]",
      "text/plain": [
       "<Figure size 1000x500 with 1 Axes>"
      ]
     },
     "metadata": {},
     "output_type": "display_data"
    }
   ],
   "source": [
    "fig = plt.figure(figsize = (10,5))\n",
    "plt.bar(top_crimes_pd['Primary Type'], top_crimes_pd['count'], width = 0.4)\n",
    "plt.xticks(rotation = 30)\n",
    "plt.xlabel(\"Crime Type\")\n",
    "plt.ylabel(\"Number of Crimes\")\n",
    "plt.title(\"TOP TEN CRIMES FROM 2013 - 2023\")\n",
    "plt.show()"
   ]
  },
  {
   "cell_type": "markdown",
   "id": "3fbd9a4f-12ef-4a59-96d8-3d888b04e1bd",
   "metadata": {},
   "source": [
    "From the above graph we can infer - \n",
    "- The most reported crime is Theft followed by Battery-related.\n",
    "- The data is not categorized into primary types, so the number of crimes under theft/robbery are more as visualized in the below figure."
   ]
  },
  {
   "cell_type": "code",
   "execution_count": 61,
   "id": "cc5f17e0-ae66-4c71-9646-dc3e7143df32",
   "metadata": {},
   "outputs": [
    {
     "data": {
      "image/png": "[encoded data removed]",
      "text/plain": [
       "<Figure size 1000x500 with 1 Axes>"
      ]
     },
     "metadata": {},
     "output_type": "display_data"
    }
   ],
   "source": [
    "crime_types_ = final_data.groupBy('Primary Type').count()\n",
    "crime_types_count_ = crime_types_.orderBy('count', ascending = False)\n",
    "top_crimes_pd_ = crime_types_count_.toPandas()\n",
    "fig = plt.figure(figsize = (10,5))\n",
    "plt.bar(top_crimes_pd_['Primary Type'], top_crimes_pd_['count'], width = 0.4)\n",
    "plt.xticks(rotation = 30)\n",
    "plt.xlabel(\"Crime Type\")\n",
    "plt.ylabel(\"Number of Crimes\")\n",
    "plt.title(\"TOP TEN CRIMES FROM 2013 - 2023\")\n",
    "plt.show()"
   ]
  },
  {
   "cell_type": "markdown",
   "id": "3f493f30-0731-49b3-8bd8-b80345658297",
   "metadata": {},
   "source": [
    "Clearly, robbery is most reported case without any close seconds.\n",
    "\n",
    "Public Violence has less than half the number of cases as that of robbery."
   ]
  }
 ],
 "metadata": {
  "kernelspec": {
   "display_name": "Python 3 (ipykernel)",
   "language": "python",
   "name": "python3"
  },
  "language_info": {
   "codemirror_mode": {
    "name": "ipython",
    "version": 3
   },
   "file_extension": ".py",
   "mimetype": "text/x-python",
   "name": "python",
   "nbconvert_exporter": "python",
   "pygments_lexer": "ipython3",
   "version": "3.11.6"
  }
 },
 "nbformat": 4,
 "nbformat_minor": 5
}
