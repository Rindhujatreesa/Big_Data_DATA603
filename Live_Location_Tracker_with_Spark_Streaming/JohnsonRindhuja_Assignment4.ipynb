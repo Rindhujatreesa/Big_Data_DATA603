{
 "cells": [
  {
   "cell_type": "markdown",
   "id": "f650b3bc-5896-46bb-938a-992c829aa331",
   "metadata": {},
   "source": [
    "# Tracking the NASA Satellite\n",
    "We will be working on streaming data which is satellite location coordinates being provided by NASA.\n",
    "\n",
    "The data is in the following format:\n",
    "{ \"message\": \"success\", \"iss_position\": {\"longitude\": \"-56.8155\", \"latitude\": \"-42.5979\"},\"timestamp\": 1667492679}\n",
    "\n",
    "Data can be accessed from [ISS Live tracking](http://api.open-notify.org/iss-now.json)\n",
    "\n",
    "For the live streaming, we consider the following - \n",
    "\n",
    "- The link can be thought of as the producer as it will do producer job.\n",
    "- The consumer connects and fetches data. The consumer takes the data from producer and uses the location coordinates to plot the satellite location on the world map.\n",
    "- The streaming interval will be 5 seconds.\n",
    "- The producer will run for an hour.\n",
    "- The graph will show the satellite tracking for 1 hr.\n",
    "- The map with the marking of the locations of the Space Station at every 5s will be saved as an HTML file."
   ]
  },
  {
   "cell_type": "code",
   "execution_count": 1,
   "id": "19a1c1e6-71ee-4ee1-bcad-9ed653c08118",
   "metadata": {},
   "outputs": [],
   "source": [
    "import requests\n",
    "import folium\n",
    "import time"
   ]
  },
  {
   "cell_type": "markdown",
   "id": "358cc8ba-96db-4dba-89a9-baee2135a19b",
   "metadata": {},
   "source": [
    "## Consumer Job\n",
    "\n",
    "The Consumer job is defined by the following three functions.\n",
    "\n",
    "`fetch_satellite_data()` function utilizes the streaming data source or the [Producer URL](http://api.open-notify.org/iss-now.json) for continuous data extraction.\n",
    "\n",
    "Further, the extracted data is returned to the main function for visualization on world map."
   ]
  },
  {
   "cell_type": "code",
   "execution_count": 2,
   "id": "aa86e91e-6e1b-4889-a671-9e0b4c948e75",
   "metadata": {},
   "outputs": [],
   "source": [
    "# Function to fetch satellite data from the API\n",
    "def fetch_satellite_data():\n",
    "    url = \"http://api.open-notify.org/iss-now.json\" #The producer\n",
    "    response = requests.get(url) #the requests library connects to the url\n",
    "    \n",
    "    if response.status_code == 200: #checks whether the connection is a success\n",
    "        data = response.json() #if the connection to the url is a success, the json data at producer is stored in data and returned\n",
    "        return data\n",
    "    else:\n",
    "        print(\"Failed to fetch data from the API.\")\n",
    "        return None"
   ]
  },
  {
   "cell_type": "markdown",
   "id": "e7aaa7eb-c7e7-44e5-881d-8a236a87f4d9",
   "metadata": {},
   "source": [
    "### Mapping the Locations\n",
    "\n",
    "We define two functions which gives us the desired output.\n",
    "\n",
    "- `display_satellite_on_map()`: This function is the heart of the Consumer Job. It processes the extracted data to segregate the location coordinates and timestamp for mapping\n",
    "- `update_map_with_satellite_location()`: This function ensures that the map is updated with a marker after each 5 seconds denoting the ISS location at that instant"
   ]
  },
  {
   "cell_type": "code",
   "execution_count": 3,
   "id": "d250bccd-e5a6-4975-bc8e-79fd36f7b751",
   "metadata": {},
   "outputs": [],
   "source": [
    "# Function to update the map with satellite location data\n",
    "def update_map_with_satellite_location(latitude, longitude, timestamp, map_object):\n",
    "    #we define a Folium Marker object with latitude and longitude as the coordinates and the timestamp pops up on clicking each marker\n",
    "    marker = folium.Marker([float(latitude), float(longitude)], popup=(\"Timestamp: \",timestamp))\n",
    "    #The Marker object is then used to map the location coordinate on a map object which is defined by the other function\n",
    "    marker.add_to(map_object)"
   ]
  },
  {
   "cell_type": "markdown",
   "id": "b5d1e349-95d5-43fb-9c7d-02f3cf86071c",
   "metadata": {},
   "source": [
    "`display_satellite_location_on_map` function does the following -\n",
    "\n",
    "- Creates a void world map object `satellite_map` using the Folium.Map() with (0,0) as origin coordinates and a zoom level of 2\n",
    "- The time period for the observation is defined using the `time` module. We require streaming for 1 hour or 3600 seconds\n",
    "- The function is run as long as the time period is within 3600s implemented using a `while` condition\n",
    "- For the `TRUE` values of `satellite_data` as extracted by calling the `fetch_satellite_data()` function upon satisfying the condition, `latitude` and `longitude` coordinates are extracted separately and passed to `update_map_with_satellite_location()` function along with the `satellite_map` which is updated at every 5 seconds with the new location marker.\n",
    "- The `time.sleep()` function implements the 5 seconds gap in streaming.\n",
    "- Finally, the updated `satellite_track` is saved as an HTML file refreshed every 5 seconds of execution"
   ]
  },
  {
   "cell_type": "code",
   "execution_count": 4,
   "id": "eb9e98d7-bb53-475b-b858-ee1a44052b3f",
   "metadata": {},
   "outputs": [],
   "source": [
    "# Function to display satellite location on a world map\n",
    "def display_satellite_location_on_map(time_limit):\n",
    "    # Initialize the world map\n",
    "    map_center = [0, 0]  # Center coordinates\n",
    "    satellite_map = folium.Map(location=map_center, zoom_start=2) \n",
    "    start_time = time.time()\n",
    "    end_time = start_time + time_limit\n",
    "    # Fetch satellite data and update the map every 5 seconds\n",
    "    while time.time() < end_time:\n",
    "        satellite_data = fetch_satellite_data() #extracts and returns the JSON data \n",
    "        if satellite_data:\n",
    "            latitude = satellite_data[\"iss_position\"][\"latitude\"]\n",
    "            longitude = satellite_data[\"iss_position\"][\"longitude\"]\n",
    "            timestamp = satellite_data[\"timestamp\"] #Gives the timestamp for pop up feature on click\n",
    "            update_map_with_satellite_location(latitude, longitude, timestamp, satellite_map) #the world map is updated with a new marker each time\n",
    "            time.sleep(5)  # Fetch data every 5 seconds\n",
    "        else:\n",
    "            time.sleep(1)  # Wait for 1 second before retrying in case of API failure\n",
    "\n",
    "        # Save the updated map to an HTML file\n",
    "        satellite_map.save(\"satellite_track.html\")"
   ]
  },
  {
   "cell_type": "markdown",
   "id": "eb916b2c-c253-46dd-81a7-de2ce0432003",
   "metadata": {},
   "source": [
    "## Execution of the Mapping\n",
    "\n",
    "The __main__ function is called for executing the program and runs for an hour"
   ]
  },
  {
   "cell_type": "code",
   "execution_count": 5,
   "id": "dee27df8-8b9b-4dfa-8445-d7c65de269c8",
   "metadata": {},
   "outputs": [],
   "source": [
    "if __name__ == \"__main__\":\n",
    "    time_limit_sec = 3600\n",
    "    display_satellite_location_on_map(time_limit_sec)#The time limit ensures the execution stops after the defined time.\n",
    "#For applications that require continuous streaming, the time_limit parameter can be removed from the display_satellite_location_on_map()"
   ]
  },
  {
   "cell_type": "code",
   "execution_count": null,
   "id": "c6ae03e0-ed79-41ac-8ac6-27f81be1e70b",
   "metadata": {},
   "outputs": [],
   "source": []
  }
 ],
 "metadata": {
  "kernelspec": {
   "display_name": "Python 3 (ipykernel)",
   "language": "python",
   "name": "python3"
  },
  "language_info": {
   "codemirror_mode": {
    "name": "ipython",
    "version": 3
   },
   "file_extension": ".py",
   "mimetype": "text/x-python",
   "name": "python",
   "nbconvert_exporter": "python",
   "pygments_lexer": "ipython3",
   "version": "3.11.6"
  }
 },
 "nbformat": 4,
 "nbformat_minor": 5
}
